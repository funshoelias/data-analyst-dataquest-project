{
 "cells": [
  {
   "cell_type": "markdown",
   "metadata": {
    "collapsed": true
   },
   "source": [
    "# Gunshot in US"
   ]
  },
  {
   "cell_type": "code",
   "execution_count": 11,
   "metadata": {
    "collapsed": false
   },
   "outputs": [
    {
     "name": "stdout",
     "output_type": "stream",
     "text": [
      "[['', 'year', 'month', 'intent', 'police', 'sex', 'age', 'race', 'hispanic', 'place', 'education'], ['1', '2012', '01', 'Suicide', '0', 'M', '34', 'Asian/Pacific Islander', '100', 'Home', '4'], ['2', '2012', '01', 'Suicide', '0', 'F', '21', 'White', '100', 'Street', '3'], ['3', '2012', '01', 'Suicide', '0', 'M', '60', 'White', '100', 'Other specified', '4'], ['4', '2012', '02', 'Suicide', '0', 'M', '64', 'White', '100', 'Home', '4']]\n"
     ]
    }
   ],
   "source": [
    "import csv\n",
    "\n",
    "data_with_header = list(csv.reader(open('guns.csv')))\n",
    "headers = data_with_header[0]\n",
    "data = data_with_header[1:]\n",
    "print(data_with_header[:5])"
   ]
  },
  {
   "cell_type": "code",
   "execution_count": 14,
   "metadata": {
    "collapsed": false
   },
   "outputs": [
    {
     "name": "stdout",
     "output_type": "stream",
     "text": [
      "['', 'year', 'month', 'intent', 'police', 'sex', 'age', 'race', 'hispanic', 'place', 'education']\n"
     ]
    }
   ],
   "source": [
    "print(headers)"
   ]
  },
  {
   "cell_type": "code",
   "execution_count": 16,
   "metadata": {
    "collapsed": false
   },
   "outputs": [
    {
     "name": "stdout",
     "output_type": "stream",
     "text": [
      "[['1', '2012', '01', 'Suicide', '0', 'M', '34', 'Asian/Pacific Islander', '100', 'Home', '4'], ['2', '2012', '01', 'Suicide', '0', 'F', '21', 'White', '100', 'Street', '3'], ['3', '2012', '01', 'Suicide', '0', 'M', '60', 'White', '100', 'Other specified', '4'], ['4', '2012', '02', 'Suicide', '0', 'M', '64', 'White', '100', 'Home', '4'], ['5', '2012', '02', 'Suicide', '0', 'M', '31', 'White', '100', 'Other specified', '2']]\n"
     ]
    }
   ],
   "source": [
    "print(data[:5])"
   ]
  },
  {
   "cell_type": "code",
   "execution_count": 17,
   "metadata": {
    "collapsed": true
   },
   "outputs": [],
   "source": [
    "years = [row[1] for row in data]"
   ]
  },
  {
   "cell_type": "code",
   "execution_count": 20,
   "metadata": {
    "collapsed": false
   },
   "outputs": [
    {
     "data": {
      "text/plain": [
       "['2012', '2012', '2012', '2012', '2012']"
      ]
     },
     "execution_count": 20,
     "metadata": {},
     "output_type": "execute_result"
    }
   ],
   "source": [
    "years[:5]"
   ]
  },
  {
   "cell_type": "code",
   "execution_count": 21,
   "metadata": {
    "collapsed": true
   },
   "outputs": [],
   "source": [
    "year_count = {}\n",
    "\n",
    "for row in data:\n",
    "    if row[1] not in year_count:\n",
    "        year_count[row[1]] = 1\n",
    "    if row[1] in year_count:\n",
    "        year_count[row[1]] += 1"
   ]
  },
  {
   "cell_type": "code",
   "execution_count": 22,
   "metadata": {
    "collapsed": false
   },
   "outputs": [
    {
     "data": {
      "text/plain": [
       "{'2012': 33564, '2013': 33637, '2014': 33600}"
      ]
     },
     "execution_count": 22,
     "metadata": {},
     "output_type": "execute_result"
    }
   ],
   "source": [
    "year_count"
   ]
  },
  {
   "cell_type": "code",
   "execution_count": 39,
   "metadata": {
    "collapsed": false
   },
   "outputs": [],
   "source": [
    "import datetime\n",
    "\n",
    "dates = [datetime.datetime(year=int(row[1]), \n",
    "                           month=int(row[2]),\n",
    "                          day=1) for row in data] #day is a fixed day\n"
   ]
  },
  {
   "cell_type": "code",
   "execution_count": 40,
   "metadata": {
    "collapsed": false
   },
   "outputs": [
    {
     "data": {
      "text/plain": [
       "[datetime.datetime(2012, 1, 1, 0, 0),\n",
       " datetime.datetime(2012, 1, 1, 0, 0),\n",
       " datetime.datetime(2012, 1, 1, 0, 0),\n",
       " datetime.datetime(2012, 2, 1, 0, 0),\n",
       " datetime.datetime(2012, 2, 1, 0, 0)]"
      ]
     },
     "execution_count": 40,
     "metadata": {},
     "output_type": "execute_result"
    }
   ],
   "source": [
    "dates[:5]"
   ]
  },
  {
   "cell_type": "code",
   "execution_count": 41,
   "metadata": {
    "collapsed": false
   },
   "outputs": [],
   "source": [
    "dates_count = {}\n",
    "\n",
    "for row in dates:\n",
    "    if row not in dates_count:\n",
    "        dates_count[row] = 1\n",
    "    if row in dates_count:\n",
    "        dates_count[row] += 1\n"
   ]
  },
  {
   "cell_type": "code",
   "execution_count": 43,
   "metadata": {
    "collapsed": false
   },
   "outputs": [
    {
     "data": {
      "text/plain": [
       "{datetime.datetime(2012, 1, 1, 0, 0): 2759,\n",
       " datetime.datetime(2012, 2, 1, 0, 0): 2358,\n",
       " datetime.datetime(2012, 3, 1, 0, 0): 2744,\n",
       " datetime.datetime(2012, 4, 1, 0, 0): 2796,\n",
       " datetime.datetime(2012, 5, 1, 0, 0): 3000,\n",
       " datetime.datetime(2012, 6, 1, 0, 0): 2827,\n",
       " datetime.datetime(2012, 7, 1, 0, 0): 3027,\n",
       " datetime.datetime(2012, 8, 1, 0, 0): 2955,\n",
       " datetime.datetime(2012, 9, 1, 0, 0): 2853,\n",
       " datetime.datetime(2012, 10, 1, 0, 0): 2734,\n",
       " datetime.datetime(2012, 11, 1, 0, 0): 2730,\n",
       " datetime.datetime(2012, 12, 1, 0, 0): 2792,\n",
       " datetime.datetime(2013, 1, 1, 0, 0): 2865,\n",
       " datetime.datetime(2013, 2, 1, 0, 0): 2376,\n",
       " datetime.datetime(2013, 3, 1, 0, 0): 2863,\n",
       " datetime.datetime(2013, 4, 1, 0, 0): 2799,\n",
       " datetime.datetime(2013, 5, 1, 0, 0): 2807,\n",
       " datetime.datetime(2013, 6, 1, 0, 0): 2921,\n",
       " datetime.datetime(2013, 7, 1, 0, 0): 3080,\n",
       " datetime.datetime(2013, 8, 1, 0, 0): 2860,\n",
       " datetime.datetime(2013, 9, 1, 0, 0): 2743,\n",
       " datetime.datetime(2013, 10, 1, 0, 0): 2809,\n",
       " datetime.datetime(2013, 11, 1, 0, 0): 2759,\n",
       " datetime.datetime(2013, 12, 1, 0, 0): 2766,\n",
       " datetime.datetime(2014, 1, 1, 0, 0): 2652,\n",
       " datetime.datetime(2014, 2, 1, 0, 0): 2362,\n",
       " datetime.datetime(2014, 3, 1, 0, 0): 2685,\n",
       " datetime.datetime(2014, 4, 1, 0, 0): 2863,\n",
       " datetime.datetime(2014, 5, 1, 0, 0): 2865,\n",
       " datetime.datetime(2014, 6, 1, 0, 0): 2932,\n",
       " datetime.datetime(2014, 7, 1, 0, 0): 2885,\n",
       " datetime.datetime(2014, 8, 1, 0, 0): 2971,\n",
       " datetime.datetime(2014, 9, 1, 0, 0): 2915,\n",
       " datetime.datetime(2014, 10, 1, 0, 0): 2866,\n",
       " datetime.datetime(2014, 11, 1, 0, 0): 2757,\n",
       " datetime.datetime(2014, 12, 1, 0, 0): 2858}"
      ]
     },
     "execution_count": 43,
     "metadata": {},
     "output_type": "execute_result"
    }
   ],
   "source": [
    "dates_count"
   ]
  },
  {
   "cell_type": "code",
   "execution_count": null,
   "metadata": {
    "collapsed": true
   },
   "outputs": [],
   "source": []
  },
  {
   "cell_type": "code",
   "execution_count": 49,
   "metadata": {
    "collapsed": true
   },
   "outputs": [],
   "source": [
    "def count(thing_to_count):\n",
    "    row_count = {}\n",
    "    for row in data:\n",
    "        if row[thing_to_count] not in row_count:\n",
    "            row_count[row[thing_to_count]] = 1\n",
    "        if row[thing_to_count] in row_count:\n",
    "            row_count[row[1]] += 1\n",
    "    return row_count"
   ]
  },
  {
   "cell_type": "code",
   "execution_count": 50,
   "metadata": {
    "collapsed": false
   },
   "outputs": [],
   "source": [
    "sex_counts = count(5)\n",
    "race_counts = count(7)"
   ]
  },
  {
   "cell_type": "code",
   "execution_count": 51,
   "metadata": {
    "collapsed": false
   },
   "outputs": [
    {
     "data": {
      "text/plain": [
       "{}"
      ]
     },
     "execution_count": 51,
     "metadata": {},
     "output_type": "execute_result"
    }
   ],
   "source": [
    "sex_counts"
   ]
  },
  {
   "cell_type": "code",
   "execution_count": null,
   "metadata": {
    "collapsed": true
   },
   "outputs": [],
   "source": []
  },
  {
   "cell_type": "code",
   "execution_count": null,
   "metadata": {
    "collapsed": true
   },
   "outputs": [],
   "source": []
  },
  {
   "cell_type": "code",
   "execution_count": null,
   "metadata": {
    "collapsed": true
   },
   "outputs": [],
   "source": []
  },
  {
   "cell_type": "code",
   "execution_count": null,
   "metadata": {
    "collapsed": true
   },
   "outputs": [],
   "source": []
  },
  {
   "cell_type": "code",
   "execution_count": null,
   "metadata": {
    "collapsed": true
   },
   "outputs": [],
   "source": []
  }
 ],
 "metadata": {
  "kernelspec": {
   "display_name": "Python 3",
   "language": "python",
   "name": "python3"
  },
  "language_info": {
   "codemirror_mode": {
    "name": "ipython",
    "version": 3
   },
   "file_extension": ".py",
   "mimetype": "text/x-python",
   "name": "python",
   "nbconvert_exporter": "python",
   "pygments_lexer": "ipython3",
   "version": "3.4.3"
  }
 },
 "nbformat": 4,
 "nbformat_minor": 0
}
